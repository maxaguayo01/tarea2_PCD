{
 "cells": [
  {
   "cell_type": "markdown",
   "id": "c3f47097",
   "metadata": {},
   "source": [
    "primer archivos\n"
   ]
  }
 ],
 "metadata": {
  "language_info": {
   "name": "python"
  }
 },
 "nbformat": 4,
 "nbformat_minor": 5
}
